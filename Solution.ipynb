{
  "nbformat": 4,
  "nbformat_minor": 0,
  "metadata": {
    "colab": {
      "name": "Solution",
      "provenance": [],
      "collapsed_sections": []
    },
    "kernelspec": {
      "name": "python3",
      "display_name": "Python 3"
    },
    "language_info": {
      "name": "python"
    }
  },
  "cells": [
    {
      "cell_type": "code",
      "source": [
        "!pip install pycodestyle pycodestyle_magic\n",
        "!pip install flake8\n",
        "!pip install pytest\n"
      ],
      "metadata": {
        "id": "_Fbd2xlxLh8f"
      },
      "execution_count": null,
      "outputs": []
    },
    {
      "cell_type": "code",
      "source": [
        "%load_ext pycodestyle_magic"
      ],
      "metadata": {
        "id": "SFEzqfMALlYP"
      },
      "execution_count": null,
      "outputs": []
    },
    {
      "cell_type": "code",
      "execution_count": null,
      "metadata": {
        "id": "srnKyB0FKkDM",
        "colab": {
          "base_uri": "https://localhost:8080/"
        },
        "outputId": "42670e02-752e-45f6-86be-54a61f660458"
      },
      "outputs": [
        {
          "output_type": "stream",
          "name": "stdout",
          "text": [
            "Writing test10.py\n"
          ]
        }
      ],
      "source": [
        "%%file test10.py\n",
        "\n",
        "import pytest\n",
        "import mock\n",
        "import builtins\n",
        "\n",
        "\"\"\"\n",
        "The function to test (would usually be loaded\n",
        "from a module outside this file).\n",
        "\"\"\"\n",
        "def solution():\n",
        "  \n",
        "    print(\"Submit a number and get an answer!\\n\")\n",
        "    n = input('Enter a number: ')\n",
        "\n",
        "    try:\n",
        "\n",
        "        if (n % 3 == 0 and n % 5 == 0):\n",
        "            ans = \"FizzBuzz!\\n\"\n",
        "        elif (n % 3 == 0):\n",
        "            ans = \"Fizz!\\n\"\n",
        "        elif (n % 5 == 0):\n",
        "            ans = \"Buzz!\\n\"\n",
        "        else:\n",
        "            ans = \"This number is not aliquot on 3 or 5\\n\"\n",
        "    except (RuntimeError, TypeError, NameError, ValueError):\n",
        "        ans = (\"Well, i got no idea what u've entered, but i couldn't solve your number.\\nLets start again\\n\")\n",
        "    except:\n",
        "        import sys\n",
        "        sys.exit('NaN')\n",
        "    return ans\n",
        "\n",
        "\"\"\"\n",
        "This test will mock input of '15'\n",
        "\"\"\"    \n",
        "\n",
        "def test_FizzBuzz():\n",
        "  digit = 15\n",
        "  with mock.patch.object(builtins, 'input', lambda _: digit):\n",
        "    assert solution() == \"FizzBuzz!\\n\"\n",
        "def test_Fizz():\n",
        "  digit = 9\n",
        "  with mock.patch.object(builtins, 'input', lambda _: digit):\n",
        "    assert solution() == \"Fizz!\\n\"\n",
        "def test_Buzz():\n",
        "  digit = 5\n",
        "  with mock.patch.object(builtins, 'input', lambda _: digit):\n",
        "    assert solution() == \"Buzz!\\n\"\n",
        "def test_NO_FizzBuzz():\n",
        "  digit = 1\n",
        "  with mock.patch.object(builtins, 'input', lambda _: digit):\n",
        "    assert solution() == \"This number is not aliquot on 3 or 5\\n\"\n",
        "def test_NoSolve():\n",
        "  digit = \"12412ewq\"\n",
        "  with mock.patch.object(builtins, 'input', lambda _: digit):\n",
        "    assert solution() == \"Well, i got no idea what u've entered, but i couldn't solve your number.\\nLets start again\\n\"\n",
        "\n",
        "def pytest_keyboard_interrupt(excinfo):\n",
        "  digit = \"KeyboardInterrupt\""
      ]
    },
    {
      "cell_type": "code",
      "source": [
        "!python -m pytest test10.py"
      ],
      "metadata": {
        "id": "WxUKPvbfKnZW"
      },
      "execution_count": null,
      "outputs": []
    }
  ]
}